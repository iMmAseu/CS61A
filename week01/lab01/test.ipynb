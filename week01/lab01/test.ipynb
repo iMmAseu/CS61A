{
 "cells": [
  {
   "cell_type": "code",
   "execution_count": 2,
   "id": "44970e5d-7ca6-4f79-b949-23f734203168",
   "metadata": {},
   "outputs": [],
   "source": [
    "def how_big(x):\n",
    "...     if x > 10:\n",
    "...         print('huge')\n",
    "...     elif x > 5:\n",
    "...         return 'big'\n",
    "...     if x > 0:\n",
    "...         print('positive')\n",
    "...     else:\n",
    "...         print(0)"
   ]
  },
  {
   "cell_type": "code",
   "execution_count": 3,
   "id": "9259eeca-9877-4746-89d2-31d7cd296825",
   "metadata": {},
   "outputs": [
    {
     "data": {
      "text/plain": [
       "'big'"
      ]
     },
     "execution_count": 3,
     "metadata": {},
     "output_type": "execute_result"
    }
   ],
   "source": [
    "how_big(7)"
   ]
  },
  {
   "cell_type": "code",
   "execution_count": 4,
   "id": "1acd07c2-b829-4557-af67-77eddb4a7db3",
   "metadata": {},
   "outputs": [
    {
     "name": "stdout",
     "output_type": "stream",
     "text": [
      "huge\n",
      "positive\n",
      "None\n"
     ]
    }
   ],
   "source": [
    "print(how_big(12))"
   ]
  },
  {
   "cell_type": "code",
   "execution_count": 5,
   "id": "6f88c691-088a-4704-a362-bb68fb98d678",
   "metadata": {},
   "outputs": [
    {
     "name": "stdout",
     "output_type": "stream",
     "text": [
      "positive\n",
      "0\n",
      "None None\n"
     ]
    }
   ],
   "source": [
    "print(how_big(1), how_big(0))"
   ]
  },
  {
   "cell_type": "code",
   "execution_count": 26,
   "id": "617259b5-d0c8-423b-ac81-513f3f5dc956",
   "metadata": {},
   "outputs": [
    {
     "name": "stdout",
     "output_type": "stream",
     "text": [
      "0.123\n"
     ]
    }
   ],
   "source": [
    "print(123/1000)"
   ]
  },
  {
   "cell_type": "code",
   "execution_count": 21,
   "id": "9fbca066-eb8f-474e-99d6-7c936df3d872",
   "metadata": {},
   "outputs": [
    {
     "name": "stdout",
     "output_type": "stream",
     "text": [
      "1.0\n"
     ]
    }
   ],
   "source": [
    "print((123%1000-23)/100)"
   ]
  },
  {
   "cell_type": "code",
   "execution_count": null,
   "id": "2bdfe398-f1fc-4350-ae2e-6b3acae33cfa",
   "metadata": {},
   "outputs": [],
   "source": []
  }
 ],
 "metadata": {
  "kernelspec": {
   "display_name": "Python 3 (ipykernel)",
   "language": "python",
   "name": "python3"
  },
  "language_info": {
   "codemirror_mode": {
    "name": "ipython",
    "version": 3
   },
   "file_extension": ".py",
   "mimetype": "text/x-python",
   "name": "python",
   "nbconvert_exporter": "python",
   "pygments_lexer": "ipython3",
   "version": "3.10.8"
  }
 },
 "nbformat": 4,
 "nbformat_minor": 5
}
